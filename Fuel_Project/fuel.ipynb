{
 "cells": [
  {
   "cell_type": "code",
   "execution_count": null,
   "metadata": {},
   "outputs": [],
   "source": [
    "# Import necessary libraries\n",
    "import numpy as np\n",
    "import pandas as pd\n",
    "import matplotlib.pyplot as plt\n",
    "import seaborn as sns\n",
    "\n",
    "# Ensuring plots show inline if you're in Jupyter/Colab\n",
    "%matplotlib inline\n",
    "\n",
    "# Load the dataset into a DataFrame\n",
    "data = pd.read_csv('fuel_econ (1).csv')\n",
    "\n",
    "# Displaying 7 rows from the dataset\n",
    "data.head(7)\n",
    "\n",
    "# Create a histogram for 'fuel_efficiency' column\n",
    "plt.figure(figsize=(10,6))\n",
    "sns.histplot(data['fuelType'], kde=True, bins=20)\n",
    "plt.title('Distribution of Fuel Efficiency')\n",
    "plt.xlabel('Fuel Efficiency')\n",
    "plt.ylabel('Frequency')\n",
    "plt.savefig('histogram.png')\n",
    "plt.show()\n",
    "\n",
    "# Filter the dataset to include only numeric columns\n",
    "numeric_data = data.select_dtypes(include=[np.number])\n",
    "\n",
    "# Creating a heatmap for numeric data\n",
    "plt.figure(figsize=(12,8))\n",
    "sns.heatmap(numeric_data.corr(), annot=True, cmap='coolwarm', fmt='.2f')\n",
    "plt.title('Correlation Heatmap')\n",
    "plt.savefig('heatmap.png')\n",
    "plt.show()"
   ]
  }
 ],
 "metadata": {
  "language_info": {
   "name": "python"
  }
 },
 "nbformat": 4,
 "nbformat_minor": 2
}
